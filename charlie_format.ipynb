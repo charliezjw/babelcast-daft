{
 "cells": [
  {
   "cell_type": "code",
   "execution_count": 1,
   "metadata": {},
   "outputs": [],
   "source": [
    "def prepend_prefixes(filename):\n",
    "    with open(filename, 'r') as f:\n",
    "        lines = f.readlines()\n",
    "\n",
    "    with open('/home/charlie_babelcast_com/dataset/bc_en/en_7/metadata.csv', 'w') as f:\n",
    "        for i in range(1200):\n",
    "            if i < 400:\n",
    "                prefix = 'en007_neutral_'\n",
    "            elif i < 800:\n",
    "                prefix = 'en007_angry_'\n",
    "            else:\n",
    "                prefix = 'en007_enthusiastic_'\n",
    "            \n",
    "            line_number = str(i % 400 + 1).zfill(3)\n",
    "            f.write(prefix + line_number + \"|\" + lines[i])"
   ]
  },
  {
   "cell_type": "code",
   "execution_count": 2,
   "metadata": {},
   "outputs": [],
   "source": [
    "prepend_prefixes('/home/charlie_babelcast_com/dataset/bc_en/en_7/old_metadata.csv')"
   ]
  },
  {
   "attachments": {},
   "cell_type": "markdown",
   "metadata": {},
   "source": [
    "# VCTK"
   ]
  },
  {
   "cell_type": "code",
   "execution_count": 26,
   "metadata": {},
   "outputs": [
    {
     "ename": "FileNotFoundError",
     "evalue": "[Errno 2] No such file or directory: '/home/charlie_babelcast_com/dataset/VCTK-Corpus/wav48/p375/metadata.csv'",
     "output_type": "error",
     "traceback": [
      "\u001b[0;31m---------------------------------------------------------------------------\u001b[0m",
      "\u001b[0;31mFileNotFoundError\u001b[0m                         Traceback (most recent call last)",
      "Cell \u001b[0;32mIn[26], line 9\u001b[0m\n\u001b[1;32m      6\u001b[0m directory \u001b[39m=\u001b[39m \u001b[39mf\u001b[39m\u001b[39m'\u001b[39m\u001b[39m/home/charlie_babelcast_com/dataset/VCTK-Corpus/txt/p\u001b[39m\u001b[39m{\u001b[39;00mi\u001b[39m}\u001b[39;00m\u001b[39m'\u001b[39m\n\u001b[1;32m      8\u001b[0m \u001b[39m# Open the output file in write mode\u001b[39;00m\n\u001b[0;32m----> 9\u001b[0m \u001b[39mwith\u001b[39;00m \u001b[39mopen\u001b[39;49m(\u001b[39mf\u001b[39;49m\u001b[39m'\u001b[39;49m\u001b[39m/home/charlie_babelcast_com/dataset/VCTK-Corpus/wav48/p\u001b[39;49m\u001b[39m{\u001b[39;49;00mi\u001b[39m}\u001b[39;49;00m\u001b[39m/metadata.csv\u001b[39;49m\u001b[39m'\u001b[39;49m, \u001b[39m'\u001b[39;49m\u001b[39mw\u001b[39;49m\u001b[39m'\u001b[39;49m, newline\u001b[39m=\u001b[39;49m\u001b[39m'\u001b[39;49m\u001b[39m'\u001b[39;49m) \u001b[39mas\u001b[39;00m csvfile:\n\u001b[1;32m     10\u001b[0m     \u001b[39m# Iterate over all files in the directory\u001b[39;00m\n\u001b[1;32m     11\u001b[0m     \u001b[39mfor\u001b[39;00m filename \u001b[39min\u001b[39;00m os\u001b[39m.\u001b[39mlistdir(directory):\n\u001b[1;32m     12\u001b[0m         \u001b[39m# Check if the file is a text file\u001b[39;00m\n\u001b[1;32m     13\u001b[0m         \u001b[39mif\u001b[39;00m filename\u001b[39m.\u001b[39mendswith(\u001b[39m'\u001b[39m\u001b[39m.txt\u001b[39m\u001b[39m'\u001b[39m):\n\u001b[1;32m     14\u001b[0m             \u001b[39m# Open the text file in read mode\u001b[39;00m\n",
      "File \u001b[0;32m~/anaconda3/envs/sd/lib/python3.10/site-packages/IPython/core/interactiveshell.py:284\u001b[0m, in \u001b[0;36m_modified_open\u001b[0;34m(file, *args, **kwargs)\u001b[0m\n\u001b[1;32m    277\u001b[0m \u001b[39mif\u001b[39;00m file \u001b[39min\u001b[39;00m {\u001b[39m0\u001b[39m, \u001b[39m1\u001b[39m, \u001b[39m2\u001b[39m}:\n\u001b[1;32m    278\u001b[0m     \u001b[39mraise\u001b[39;00m \u001b[39mValueError\u001b[39;00m(\n\u001b[1;32m    279\u001b[0m         \u001b[39mf\u001b[39m\u001b[39m\"\u001b[39m\u001b[39mIPython won\u001b[39m\u001b[39m'\u001b[39m\u001b[39mt let you open fd=\u001b[39m\u001b[39m{\u001b[39;00mfile\u001b[39m}\u001b[39;00m\u001b[39m by default \u001b[39m\u001b[39m\"\u001b[39m\n\u001b[1;32m    280\u001b[0m         \u001b[39m\"\u001b[39m\u001b[39mas it is likely to crash IPython. If you know what you are doing, \u001b[39m\u001b[39m\"\u001b[39m\n\u001b[1;32m    281\u001b[0m         \u001b[39m\"\u001b[39m\u001b[39myou can use builtins\u001b[39m\u001b[39m'\u001b[39m\u001b[39m open.\u001b[39m\u001b[39m\"\u001b[39m\n\u001b[1;32m    282\u001b[0m     )\n\u001b[0;32m--> 284\u001b[0m \u001b[39mreturn\u001b[39;00m io_open(file, \u001b[39m*\u001b[39;49margs, \u001b[39m*\u001b[39;49m\u001b[39m*\u001b[39;49mkwargs)\n",
      "\u001b[0;31mFileNotFoundError\u001b[0m: [Errno 2] No such file or directory: '/home/charlie_babelcast_com/dataset/VCTK-Corpus/wav48/p375/metadata.csv'"
     ]
    }
   ],
   "source": [
    "import os\n",
    "import csv\n",
    "\n",
    "for i in range(374, 377, 1):\n",
    "    # Specify the directory you want to scan\n",
    "    directory = f'/home/charlie_babelcast_com/dataset/VCTK-Corpus/txt/p{i}'\n",
    "\n",
    "    # Open the output file in write mode\n",
    "    with open(f'/home/charlie_babelcast_com/dataset/VCTK-Corpus/wav48/p{i}/metadata.csv', 'w', newline='') as csvfile:\n",
    "        # Iterate over all files in the directory\n",
    "        for filename in os.listdir(directory):\n",
    "            # Check if the file is a text file\n",
    "            if filename.endswith('.txt'):\n",
    "                # Open the text file in read mode\n",
    "                with open(os.path.join(directory, filename), 'r') as txtfile:\n",
    "                    # Read the first line of the text file\n",
    "                    content = txtfile.readline().strip()\n",
    "                    # Write the filename and content to the csv file\n",
    "                    csvfile.write(f\"{filename[:-4]}|{content}\\n\")\n"
   ]
  },
  {
   "attachments": {},
   "cell_type": "markdown",
   "metadata": {},
   "source": [
    "# For Hifi-GAN input"
   ]
  },
  {
   "cell_type": "code",
   "execution_count": 1,
   "metadata": {},
   "outputs": [],
   "source": [
    "import os\n",
    "import glob\n",
    "\n",
    "# Specify the directory you want to start from\n",
    "rootDir = '/home/charlie_babelcast_com/dataset/english3d'\n",
    "\n",
    "# Open the output file\n",
    "with open('charlie_out.csv', 'w') as outfile:\n",
    "    # Iterate over each subdirectory\n",
    "    for dirName, subdirList, fileList in os.walk(rootDir):\n",
    "        # Find any metadata.csv file in this directory\n",
    "        for fname in glob.glob(os.path.join(dirName, 'metadata.csv')):\n",
    "            # Open the CSV file and append its contents to the output file\n",
    "            with open(fname, 'r') as infile:\n",
    "                for line in infile:\n",
    "                    outfile.write(line)\n"
   ]
  },
  {
   "cell_type": "code",
   "execution_count": 1,
   "metadata": {},
   "outputs": [],
   "source": [
    "import random\n",
    "\n",
    "# Open the CSV file and read the lines\n",
    "with open('charlie_out_filtered.txt', 'r') as f:\n",
    "    lines = f.readlines()\n",
    "\n",
    "# Shuffle the lines\n",
    "random.shuffle(lines)\n",
    "\n",
    "# Calculate the index where to split the lines\n",
    "split_idx = int(0.99 * len(lines))\n",
    "\n",
    "# Split the lines into training and validation sets\n",
    "train_lines = lines[:split_idx]\n",
    "validation_lines = lines[split_idx:]\n",
    "\n",
    "# Write the training lines to train.txt\n",
    "with open('training.txt', 'w') as f:\n",
    "    f.writelines(train_lines)\n",
    "\n",
    "# Write the validation lines to validation.txt\n",
    "with open('validation.txt', 'w') as f:\n",
    "    f.writelines(validation_lines)\n"
   ]
  },
  {
   "attachments": {},
   "cell_type": "markdown",
   "metadata": {},
   "source": [
    "# Process Hifi-GAN train file for filtering"
   ]
  },
  {
   "cell_type": "code",
   "execution_count": 3,
   "metadata": {},
   "outputs": [],
   "source": [
    "import os\n",
    "\n",
    "# Read lines from a.txt\n",
    "with open('charlie_out.csv', 'r') as f:\n",
    "    lines = f.readlines()\n",
    "\n",
    "# Initialize a list to store the lines to be kept\n",
    "kept_lines = []\n",
    "\n",
    "# Iterate over the lines\n",
    "for line in lines:\n",
    "    # Split the line into two parts on \"|\"\n",
    "    parts = line.split(\"|\")\n",
    "\n",
    "    # Form the filename from the first part\n",
    "    filename = os.path.join('/home/charlie_babelcast_com/github/hifi-gan/ft_dataset', parts[0] + '.wav')\n",
    "\n",
    "    # Check if the file exists in the directory\n",
    "    if os.path.isfile(filename):\n",
    "        # If the file exists, keep the line\n",
    "        kept_lines.append(line)\n",
    "\n",
    "# Write the kept lines back to a.txt\n",
    "with open('charlie_out_filtered.txt', 'w') as f:\n",
    "    f.writelines(kept_lines)\n"
   ]
  },
  {
   "cell_type": "code",
   "execution_count": null,
   "metadata": {},
   "outputs": [],
   "source": []
  }
 ],
 "metadata": {
  "kernelspec": {
   "display_name": "sd",
   "language": "python",
   "name": "python3"
  },
  "language_info": {
   "codemirror_mode": {
    "name": "ipython",
    "version": 3
   },
   "file_extension": ".py",
   "mimetype": "text/x-python",
   "name": "python",
   "nbconvert_exporter": "python",
   "pygments_lexer": "ipython3",
   "version": "3.10.11"
  },
  "orig_nbformat": 4
 },
 "nbformat": 4,
 "nbformat_minor": 2
}
